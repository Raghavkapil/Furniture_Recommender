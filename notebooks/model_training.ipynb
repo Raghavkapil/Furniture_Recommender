{
 "cells": [
  {
   "cell_type": "markdown",
   "id": "8e03dffb",
   "metadata": {},
   "source": [
    "# Model Training Notebook (NLP + CV)\n",
    "- Build text embeddings for titles+descriptions\n",
    "- Train clustering for groups\n",
    "- (Optional) Fine-tune ResNet18 for image categories using your labels\n"
   ]
  },
  {
   "cell_type": "code",
   "execution_count": null,
   "id": "7b3fed5b",
   "metadata": {},
   "outputs": [],
   "source": [
    "import pandas as pd\n",
    "from sentence_transformers import SentenceTransformer\n",
    "from sklearn.cluster import KMeans\n",
    "from pathlib import Path\n",
    "DATA = Path('../backend/app/data/intern_data_ikarus.csv')\n",
    "df = pd.read_csv(DATA)\n",
    "model = SentenceTransformer('sentence-transformers/all-MiniLM-L6-v2')\n",
    "emb = model.encode((df['title'].fillna('') + ' ' + df['description'].fillna('')).tolist(), batch_size=64, show_progress_bar=True)\n",
    "km = KMeans(n_clusters=12, n_init='auto').fit(emb)\n",
    "df['cluster']=km.labels_\n",
    "df[['title','cluster']].head()"
   ]
  },
  {
   "cell_type": "markdown",
   "id": "1908355a",
   "metadata": {},
   "source": [
    "# Save artifacts as needed (e.g., cluster labels)"
   ]
  }
 ],
 "metadata": {},
 "nbformat": 4,
 "nbformat_minor": 5
}
